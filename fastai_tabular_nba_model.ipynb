{
 "cells": [
  {
   "cell_type": "code",
   "execution_count": null,
   "metadata": {},
   "outputs": [],
   "source": [
    "%reload_ext autoreload\n",
    "%autoreload 2\n",
    "%matplotlib inline"
   ]
  },
  {
   "cell_type": "markdown",
   "metadata": {
    "heading_collapsed": true
   },
   "source": [
    "### Imports"
   ]
  },
  {
   "cell_type": "code",
   "execution_count": 2,
   "metadata": {
    "hidden": true
   },
   "outputs": [],
   "source": [
    "from fastai import *\n",
    "from fastai.imports import *\n",
    "from fastai.tabular import *\n",
    "from sklearn.metrics import mean_squared_error\n",
    "from sklearn.metrics import mean_absolute_error\n",
    "import seaborn as sns\n",
    "from merge_closest import merge_closest # https://pypi.org/project/merge_closest/ mimics vlookup"
   ]
  },
  {
   "cell_type": "markdown",
   "metadata": {},
   "source": [
    "### Load Data"
   ]
  },
  {
   "cell_type": "code",
   "execution_count": 3,
   "metadata": {},
   "outputs": [],
   "source": [
    "# NBA Dataset \n",
    "nba = pd.read_csv('nba_feature_engineer.csv').dropna().reset_index(drop=True)\n",
    "\n",
    "# Wizard of Odds \n",
    "# https://wizardofodds.com/games/sports-betting/nba/\n",
    "spread_map = pd.read_csv('woo_mapping.csv') "
   ]
  },
  {
   "cell_type": "code",
   "execution_count": 29,
   "metadata": {},
   "outputs": [
    {
     "data": {
      "text/html": [
       "<div>\n",
       "<style scoped>\n",
       "    .dataframe tbody tr th:only-of-type {\n",
       "        vertical-align: middle;\n",
       "    }\n",
       "\n",
       "    .dataframe tbody tr th {\n",
       "        vertical-align: top;\n",
       "    }\n",
       "\n",
       "    .dataframe thead th {\n",
       "        text-align: right;\n",
       "    }\n",
       "</style>\n",
       "<table border=\"1\" class=\"dataframe\">\n",
       "  <thead>\n",
       "    <tr style=\"text-align: right;\">\n",
       "      <th></th>\n",
       "      <th>awayscore</th>\n",
       "      <th>homescore</th>\n",
       "      <th>spread</th>\n",
       "      <th>total</th>\n",
       "      <th>Year</th>\n",
       "      <th>Month</th>\n",
       "      <th>Week</th>\n",
       "      <th>Day</th>\n",
       "      <th>Dayofweek</th>\n",
       "      <th>Dayofyear</th>\n",
       "      <th>...</th>\n",
       "      <th>v_opp_oreb_ratio</th>\n",
       "      <th>v_opp_dreb_ratio</th>\n",
       "      <th>v_opp_def_ppm_avg</th>\n",
       "      <th>v_opp_off_ppm_avg</th>\n",
       "      <th>v_opp_wpct_avg</th>\n",
       "      <th>v_opp_avg_ptspm_ratio</th>\n",
       "      <th>v_opp_avg_oreb_pm</th>\n",
       "      <th>v_opp_avg_dreb_pm</th>\n",
       "      <th>mov</th>\n",
       "      <th>home_win</th>\n",
       "    </tr>\n",
       "  </thead>\n",
       "  <tbody>\n",
       "    <tr>\n",
       "      <th>count</th>\n",
       "      <td>19288.000000</td>\n",
       "      <td>19288.000000</td>\n",
       "      <td>19288.000000</td>\n",
       "      <td>19288.000000</td>\n",
       "      <td>19288.000000</td>\n",
       "      <td>19288.000000</td>\n",
       "      <td>19288.000000</td>\n",
       "      <td>19288.000000</td>\n",
       "      <td>19288.000000</td>\n",
       "      <td>19288.000000</td>\n",
       "      <td>...</td>\n",
       "      <td>19288.000000</td>\n",
       "      <td>19288.000000</td>\n",
       "      <td>19288.000000</td>\n",
       "      <td>19288.000000</td>\n",
       "      <td>19288.000000</td>\n",
       "      <td>19288.000000</td>\n",
       "      <td>19288.000000</td>\n",
       "      <td>19288.000000</td>\n",
       "      <td>19288.000000</td>\n",
       "      <td>19288.000000</td>\n",
       "    </tr>\n",
       "    <tr>\n",
       "      <th>mean</th>\n",
       "      <td>97.662588</td>\n",
       "      <td>100.796039</td>\n",
       "      <td>6.040880</td>\n",
       "      <td>197.984353</td>\n",
       "      <td>2009.695355</td>\n",
       "      <td>4.981387</td>\n",
       "      <td>19.828443</td>\n",
       "      <td>15.710701</td>\n",
       "      <td>3.031470</td>\n",
       "      <td>136.333679</td>\n",
       "      <td>...</td>\n",
       "      <td>0.362326</td>\n",
       "      <td>2.820690</td>\n",
       "      <td>2.036953</td>\n",
       "      <td>2.039346</td>\n",
       "      <td>0.504017</td>\n",
       "      <td>1.002287</td>\n",
       "      <td>0.362850</td>\n",
       "      <td>2.819424</td>\n",
       "      <td>3.133451</td>\n",
       "      <td>0.599388</td>\n",
       "    </tr>\n",
       "    <tr>\n",
       "      <th>std</th>\n",
       "      <td>12.511692</td>\n",
       "      <td>12.487807</td>\n",
       "      <td>3.530611</td>\n",
       "      <td>13.111347</td>\n",
       "      <td>4.886909</td>\n",
       "      <td>4.172515</td>\n",
       "      <td>18.272661</td>\n",
       "      <td>8.823384</td>\n",
       "      <td>1.952884</td>\n",
       "      <td>128.173738</td>\n",
       "      <td>...</td>\n",
       "      <td>0.059805</td>\n",
       "      <td>0.407235</td>\n",
       "      <td>0.084632</td>\n",
       "      <td>0.087494</td>\n",
       "      <td>0.076646</td>\n",
       "      <td>0.022617</td>\n",
       "      <td>0.041252</td>\n",
       "      <td>0.324319</td>\n",
       "      <td>13.075994</td>\n",
       "      <td>0.490035</td>\n",
       "    </tr>\n",
       "    <tr>\n",
       "      <th>min</th>\n",
       "      <td>0.000000</td>\n",
       "      <td>0.000000</td>\n",
       "      <td>0.000000</td>\n",
       "      <td>0.000000</td>\n",
       "      <td>2001.000000</td>\n",
       "      <td>1.000000</td>\n",
       "      <td>1.000000</td>\n",
       "      <td>1.000000</td>\n",
       "      <td>0.000000</td>\n",
       "      <td>1.000000</td>\n",
       "      <td>...</td>\n",
       "      <td>0.164179</td>\n",
       "      <td>1.739437</td>\n",
       "      <td>1.712898</td>\n",
       "      <td>1.696229</td>\n",
       "      <td>0.155238</td>\n",
       "      <td>0.905334</td>\n",
       "      <td>0.222199</td>\n",
       "      <td>2.088238</td>\n",
       "      <td>-58.000000</td>\n",
       "      <td>0.000000</td>\n",
       "    </tr>\n",
       "    <tr>\n",
       "      <th>25%</th>\n",
       "      <td>89.000000</td>\n",
       "      <td>92.000000</td>\n",
       "      <td>3.500000</td>\n",
       "      <td>189.000000</td>\n",
       "      <td>2005.750000</td>\n",
       "      <td>2.000000</td>\n",
       "      <td>6.000000</td>\n",
       "      <td>8.000000</td>\n",
       "      <td>1.000000</td>\n",
       "      <td>40.000000</td>\n",
       "      <td>...</td>\n",
       "      <td>0.322636</td>\n",
       "      <td>2.536364</td>\n",
       "      <td>1.978858</td>\n",
       "      <td>1.980755</td>\n",
       "      <td>0.453388</td>\n",
       "      <td>0.987134</td>\n",
       "      <td>0.336665</td>\n",
       "      <td>2.581274</td>\n",
       "      <td>-6.000000</td>\n",
       "      <td>0.000000</td>\n",
       "    </tr>\n",
       "    <tr>\n",
       "      <th>50%</th>\n",
       "      <td>97.000000</td>\n",
       "      <td>101.000000</td>\n",
       "      <td>5.500000</td>\n",
       "      <td>197.000000</td>\n",
       "      <td>2010.000000</td>\n",
       "      <td>3.000000</td>\n",
       "      <td>12.000000</td>\n",
       "      <td>16.000000</td>\n",
       "      <td>3.000000</td>\n",
       "      <td>82.000000</td>\n",
       "      <td>...</td>\n",
       "      <td>0.361156</td>\n",
       "      <td>2.774609</td>\n",
       "      <td>2.033332</td>\n",
       "      <td>2.036532</td>\n",
       "      <td>0.502416</td>\n",
       "      <td>1.001377</td>\n",
       "      <td>0.365319</td>\n",
       "      <td>2.762232</td>\n",
       "      <td>4.000000</td>\n",
       "      <td>1.000000</td>\n",
       "    </tr>\n",
       "    <tr>\n",
       "      <th>75%</th>\n",
       "      <td>106.000000</td>\n",
       "      <td>109.000000</td>\n",
       "      <td>8.000000</td>\n",
       "      <td>206.500000</td>\n",
       "      <td>2014.000000</td>\n",
       "      <td>11.000000</td>\n",
       "      <td>46.000000</td>\n",
       "      <td>23.000000</td>\n",
       "      <td>5.000000</td>\n",
       "      <td>322.000000</td>\n",
       "      <td>...</td>\n",
       "      <td>0.401333</td>\n",
       "      <td>3.045393</td>\n",
       "      <td>2.090560</td>\n",
       "      <td>2.094535</td>\n",
       "      <td>0.553493</td>\n",
       "      <td>1.016785</td>\n",
       "      <td>0.391326</td>\n",
       "      <td>2.982105</td>\n",
       "      <td>12.000000</td>\n",
       "      <td>1.000000</td>\n",
       "    </tr>\n",
       "    <tr>\n",
       "      <th>max</th>\n",
       "      <td>161.000000</td>\n",
       "      <td>168.000000</td>\n",
       "      <td>23.000000</td>\n",
       "      <td>245.000000</td>\n",
       "      <td>2018.000000</td>\n",
       "      <td>12.000000</td>\n",
       "      <td>53.000000</td>\n",
       "      <td>31.000000</td>\n",
       "      <td>6.000000</td>\n",
       "      <td>366.000000</td>\n",
       "      <td>...</td>\n",
       "      <td>0.692308</td>\n",
       "      <td>5.020619</td>\n",
       "      <td>2.321523</td>\n",
       "      <td>2.401878</td>\n",
       "      <td>0.853195</td>\n",
       "      <td>1.114250</td>\n",
       "      <td>0.537106</td>\n",
       "      <td>5.448514</td>\n",
       "      <td>61.000000</td>\n",
       "      <td>1.000000</td>\n",
       "    </tr>\n",
       "  </tbody>\n",
       "</table>\n",
       "<p>8 rows × 68 columns</p>\n",
       "</div>"
      ],
      "text/plain": [
       "          awayscore     homescore        spread         total          Year  \\\n",
       "count  19288.000000  19288.000000  19288.000000  19288.000000  19288.000000   \n",
       "mean      97.662588    100.796039      6.040880    197.984353   2009.695355   \n",
       "std       12.511692     12.487807      3.530611     13.111347      4.886909   \n",
       "min        0.000000      0.000000      0.000000      0.000000   2001.000000   \n",
       "25%       89.000000     92.000000      3.500000    189.000000   2005.750000   \n",
       "50%       97.000000    101.000000      5.500000    197.000000   2010.000000   \n",
       "75%      106.000000    109.000000      8.000000    206.500000   2014.000000   \n",
       "max      161.000000    168.000000     23.000000    245.000000   2018.000000   \n",
       "\n",
       "              Month          Week           Day     Dayofweek     Dayofyear  \\\n",
       "count  19288.000000  19288.000000  19288.000000  19288.000000  19288.000000   \n",
       "mean       4.981387     19.828443     15.710701      3.031470    136.333679   \n",
       "std        4.172515     18.272661      8.823384      1.952884    128.173738   \n",
       "min        1.000000      1.000000      1.000000      0.000000      1.000000   \n",
       "25%        2.000000      6.000000      8.000000      1.000000     40.000000   \n",
       "50%        3.000000     12.000000     16.000000      3.000000     82.000000   \n",
       "75%       11.000000     46.000000     23.000000      5.000000    322.000000   \n",
       "max       12.000000     53.000000     31.000000      6.000000    366.000000   \n",
       "\n",
       "           ...       v_opp_oreb_ratio  v_opp_dreb_ratio  v_opp_def_ppm_avg  \\\n",
       "count      ...           19288.000000      19288.000000       19288.000000   \n",
       "mean       ...               0.362326          2.820690           2.036953   \n",
       "std        ...               0.059805          0.407235           0.084632   \n",
       "min        ...               0.164179          1.739437           1.712898   \n",
       "25%        ...               0.322636          2.536364           1.978858   \n",
       "50%        ...               0.361156          2.774609           2.033332   \n",
       "75%        ...               0.401333          3.045393           2.090560   \n",
       "max        ...               0.692308          5.020619           2.321523   \n",
       "\n",
       "       v_opp_off_ppm_avg  v_opp_wpct_avg  v_opp_avg_ptspm_ratio  \\\n",
       "count       19288.000000    19288.000000           19288.000000   \n",
       "mean            2.039346        0.504017               1.002287   \n",
       "std             0.087494        0.076646               0.022617   \n",
       "min             1.696229        0.155238               0.905334   \n",
       "25%             1.980755        0.453388               0.987134   \n",
       "50%             2.036532        0.502416               1.001377   \n",
       "75%             2.094535        0.553493               1.016785   \n",
       "max             2.401878        0.853195               1.114250   \n",
       "\n",
       "       v_opp_avg_oreb_pm  v_opp_avg_dreb_pm           mov      home_win  \n",
       "count       19288.000000       19288.000000  19288.000000  19288.000000  \n",
       "mean            0.362850           2.819424      3.133451      0.599388  \n",
       "std             0.041252           0.324319     13.075994      0.490035  \n",
       "min             0.222199           2.088238    -58.000000      0.000000  \n",
       "25%             0.336665           2.581274     -6.000000      0.000000  \n",
       "50%             0.365319           2.762232      4.000000      1.000000  \n",
       "75%             0.391326           2.982105     12.000000      1.000000  \n",
       "max             0.537106           5.448514     61.000000      1.000000  \n",
       "\n",
       "[8 rows x 68 columns]"
      ]
     },
     "execution_count": 29,
     "metadata": {},
     "output_type": "execute_result"
    }
   ],
   "source": [
    "# a\n",
    "nba.describe()"
   ]
  },
  {
   "cell_type": "markdown",
   "metadata": {
    "heading_collapsed": true
   },
   "source": [
    "### Subset Columns"
   ]
  },
  {
   "cell_type": "code",
   "execution_count": 4,
   "metadata": {
    "code_folding": [
     1,
     15
    ],
    "hidden": true
   },
   "outputs": [],
   "source": [
    "# nba.columns\n",
    "cat_cols = [\n",
    "    'away', \n",
    "    'home',\n",
    "    'Year', \n",
    "    'Month', \n",
    "    'Week', \n",
    "    'Day', \n",
    "    'Dayofweek',\n",
    "    'div',\n",
    "    'conf',\n",
    "    'playoff',\n",
    "    'h_lag_result',\n",
    "    'v_lag_result']\n",
    "\n",
    "cont_cols=[\n",
    " 'h_last_5_mov',\n",
    " 'v_last_5_mov',\n",
    " 'h_lag_mov_avg',\n",
    " 'h_ppm_ratio',\n",
    " 'h_lag_team_oreb_ratio',\n",
    " 'h_lag_team_dreb_ratio',\n",
    " 'h_opp_lag_w_pct',\n",
    " 'h_opp_ppm_ratio',\n",
    " 'h_opp_oreb_ratio',\n",
    " 'h_opp_dreb_ratio',\n",
    " 'v_lag_mov_avg',\n",
    " 'v_ppm_ratio',\n",
    " 'v_lag_team_oreb_ratio',\n",
    " 'v_lag_team_dreb_ratio',\n",
    " 'v_opp_lag_w_pct',\n",
    " 'v_opp_ppm_ratio',\n",
    " 'v_opp_oreb_ratio',\n",
    " 'v_opp_dreb_ratio']\n",
    "\n",
    "cols_for_data = cat_cols + cont_cols + ['seas','gid','home_win']\n",
    "\n",
    "# Dataset for modeling\n",
    "df = nba[cols_for_data]"
   ]
  },
  {
   "cell_type": "markdown",
   "metadata": {},
   "source": [
    "### Create tabular model in Fastai"
   ]
  },
  {
   "cell_type": "markdown",
   "metadata": {
    "heading_collapsed": true
   },
   "source": [
    "#### Create tabular bunch"
   ]
  },
  {
   "cell_type": "code",
   "execution_count": 5,
   "metadata": {
    "code_folding": [],
    "hidden": true
   },
   "outputs": [],
   "source": [
    "val_idx=df.query('seas == 2017').index.tolist() # validation set\n",
    "procs = [FillMissing, Categorify, Normalize] # preprocessing\n",
    "dep_var = 'home_win'\n",
    "data = (TabularList.from_df(df=df, \n",
    "                            procs=procs,\n",
    "                            cat_names=cat_cols,\n",
    "                            cont_names=cont_cols,\n",
    "                            bs=16)\n",
    "                    .split_by_idx(valid_idx=val_idx)\n",
    "                    .label_from_df(cols=dep_var)\n",
    "                    .databunch())"
   ]
  },
  {
   "cell_type": "code",
   "execution_count": null,
   "metadata": {
    "hidden": true
   },
   "outputs": [],
   "source": []
  },
  {
   "cell_type": "markdown",
   "metadata": {},
   "source": [
    "#### Create tabular_learner model"
   ]
  },
  {
   "cell_type": "code",
   "execution_count": 6,
   "metadata": {
    "code_folding": [
     1
    ]
   },
   "outputs": [],
   "source": [
    "# embedding columns\n",
    "emb_sizes={\n",
    "    'home' : 31,\n",
    "    'away' : 31,\n",
    "    'conf' : 2,\n",
    "    'div' :  2,\n",
    "    'playoff': 2,\n",
    "    'h_lag_result' : 2,\n",
    "    'v_lag_result' : 2,\n",
    "    'Year' : 18,\n",
    "    'Day' : 31,\n",
    "    'Month': 7,\n",
    "    'Dayofweek' : 7\n",
    "}"
   ]
  },
  {
   "cell_type": "code",
   "execution_count": 7,
   "metadata": {
    "code_folding": [
     0
    ]
   },
   "outputs": [],
   "source": [
    "learn = tabular_learner(data, \n",
    "                      layers=[100,50], \n",
    "                      ps=[0.001,0.001], \n",
    "                      emb_drop=.001,\n",
    "                      emb_szs=emb_sizes)"
   ]
  },
  {
   "cell_type": "markdown",
   "metadata": {},
   "source": [
    "#### Run learning rate finder"
   ]
  },
  {
   "cell_type": "code",
   "execution_count": 8,
   "metadata": {},
   "outputs": [
    {
     "name": "stdout",
     "output_type": "stream",
     "text": [
      "LR Finder is complete, type {learner_name}.recorder.plot() to see the graph.\n"
     ]
    },
    {
     "data": {
      "image/png": "[encoded data removed]",
      "text/plain": [
       "<Figure size 432x288 with 1 Axes>"
      ]
     },
     "metadata": {
      "needs_background": "light"
     },
     "output_type": "display_data"
    }
   ],
   "source": [
    "learn.lr_find(start_lr=1e-10,end_lr=1,num_it=1000)\n",
    "learn.recorder.plot()"
   ]
  },
  {
   "cell_type": "markdown",
   "metadata": {},
   "source": [
    "#### Run model"
   ]
  },
  {
   "cell_type": "code",
   "execution_count": 9,
   "metadata": {},
   "outputs": [
    {
     "data": {
      "text/html": [
       "Total time: 00:11 <p><table style='width:300px; margin-bottom:10px'>\n",
       "  <tr>\n",
       "    <th>epoch</th>\n",
       "    <th>train_loss</th>\n",
       "    <th>valid_loss</th>\n",
       "  </tr>\n",
       "  <tr>\n",
       "    <th>1</th>\n",
       "    <th>0.215681</th>\n",
       "    <th>0.216927</th>\n",
       "  </tr>\n",
       "  <tr>\n",
       "    <th>2</th>\n",
       "    <th>0.211681</th>\n",
       "    <th>0.218124</th>\n",
       "  </tr>\n",
       "  <tr>\n",
       "    <th>3</th>\n",
       "    <th>0.209978</th>\n",
       "    <th>0.214504</th>\n",
       "  </tr>\n",
       "  <tr>\n",
       "    <th>4</th>\n",
       "    <th>0.202553</th>\n",
       "    <th>0.214670</th>\n",
       "  </tr>\n",
       "  <tr>\n",
       "\n",
       "  </tr>\n",
       "</table>\n"
      ],
      "text/plain": [
       "<IPython.core.display.HTML object>"
      ]
     },
     "metadata": {},
     "output_type": "display_data"
    }
   ],
   "source": [
    "learn.fit_one_cycle(4,\n",
    "                    1e-02,\n",
    "                    wd=0.01, \n",
    "                    pct_start=0.01,\n",
    "                    div_factor=40)"
   ]
  },
  {
   "cell_type": "markdown",
   "metadata": {},
   "source": [
    "#### Get predictions for validation set"
   ]
  },
  {
   "cell_type": "code",
   "execution_count": 10,
   "metadata": {},
   "outputs": [],
   "source": [
    "# get predictions \n",
    "(val_preds, results) = learn.get_preds()"
   ]
  },
  {
   "cell_type": "markdown",
   "metadata": {},
   "source": [
    "### Point spread vs. model predictions"
   ]
  },
  {
   "cell_type": "code",
   "execution_count": 11,
   "metadata": {},
   "outputs": [],
   "source": [
    "# Get validation set pointspreads\n",
    "game_spreads = nba.query('seas==2017')['spread'].values\n",
    "\n",
    "# Add fav/dog to spread via H/A\n",
    "ps_preds = (nba.query('seas == 2017').favored\n",
    "            .apply(lambda x: -1 if x == 'A' else 1)) * game_spreads"
   ]
  },
  {
   "cell_type": "markdown",
   "metadata": {},
   "source": [
    "#### Table definitions"
   ]
  },
  {
   "cell_type": "markdown",
   "metadata": {},
   "source": [
    "Create a dataframe containing\n",
    "\n",
    "+ `home_win` probability, `preds`\n",
    "+ margin of victory, `results`\n",
    "+ point spread, `ps`\n",
    "+ predicted point spread `pred_spread`\n",
    "+ Boolean was predicited spread closer than actual spread, `bl`\n",
    "\n",
    "|Feature | Def\n",
    "|--- |---\n",
    "|preds | Model probability of home team win\n",
    "|results | Margin of victory from home team perspective\n",
    "|ps | Actual point spread for game\n",
    "|pred_spread | Model predicted point spread based off WOO conversion chart\n",
    "|pred_diff | Abs difference between result and prediction\n",
    "|ps_diff | Abs diff between between result and point spread\n",
    "|bl | Did the model get closer to the result than the point spread "
   ]
  },
  {
   "cell_type": "markdown",
   "metadata": {},
   "source": [
    "#### Build dataframe"
   ]
  },
  {
   "cell_type": "code",
   "execution_count": 12,
   "metadata": {},
   "outputs": [],
   "source": [
    "game_preds_df = pd.DataFrame()\n",
    "game_preds_df['preds'] = val_preds.numpy().ravel()\n",
    "game_preds_df['results'] = nba.query('seas == 2017').mov.values\n",
    "game_preds_df['ps'] = ps_preds.values"
   ]
  },
  {
   "cell_type": "code",
   "execution_count": 13,
   "metadata": {},
   "outputs": [
    {
     "data": {
      "text/html": [
       "<div>\n",
       "<style scoped>\n",
       "    .dataframe tbody tr th:only-of-type {\n",
       "        vertical-align: middle;\n",
       "    }\n",
       "\n",
       "    .dataframe tbody tr th {\n",
       "        vertical-align: top;\n",
       "    }\n",
       "\n",
       "    .dataframe thead th {\n",
       "        text-align: right;\n",
       "    }\n",
       "</style>\n",
       "<table border=\"1\" class=\"dataframe\">\n",
       "  <thead>\n",
       "    <tr style=\"text-align: right;\">\n",
       "      <th></th>\n",
       "      <th>preds</th>\n",
       "      <th>results</th>\n",
       "      <th>ps</th>\n",
       "    </tr>\n",
       "  </thead>\n",
       "  <tbody>\n",
       "    <tr>\n",
       "      <th>0</th>\n",
       "      <td>0.315677</td>\n",
       "      <td>-19.0</td>\n",
       "      <td>-2.5</td>\n",
       "    </tr>\n",
       "    <tr>\n",
       "      <th>1</th>\n",
       "      <td>0.680949</td>\n",
       "      <td>5.0</td>\n",
       "      <td>4.0</td>\n",
       "    </tr>\n",
       "    <tr>\n",
       "      <th>2</th>\n",
       "      <td>0.620503</td>\n",
       "      <td>-2.0</td>\n",
       "      <td>2.5</td>\n",
       "    </tr>\n",
       "    <tr>\n",
       "      <th>3</th>\n",
       "      <td>0.954613</td>\n",
       "      <td>21.0</td>\n",
       "      <td>10.5</td>\n",
       "    </tr>\n",
       "    <tr>\n",
       "      <th>4</th>\n",
       "      <td>0.828488</td>\n",
       "      <td>3.0</td>\n",
       "      <td>6.0</td>\n",
       "    </tr>\n",
       "  </tbody>\n",
       "</table>\n",
       "</div>"
      ],
      "text/plain": [
       "      preds  results    ps\n",
       "0  0.315677    -19.0  -2.5\n",
       "1  0.680949      5.0   4.0\n",
       "2  0.620503     -2.0   2.5\n",
       "3  0.954613     21.0  10.5\n",
       "4  0.828488      3.0   6.0"
      ]
     },
     "execution_count": 13,
     "metadata": {},
     "output_type": "execute_result"
    }
   ],
   "source": [
    "game_preds_df.head()"
   ]
  },
  {
   "cell_type": "code",
   "execution_count": 14,
   "metadata": {},
   "outputs": [
    {
     "data": {
      "text/html": [
       "<div>\n",
       "<style scoped>\n",
       "    .dataframe tbody tr th:only-of-type {\n",
       "        vertical-align: middle;\n",
       "    }\n",
       "\n",
       "    .dataframe tbody tr th {\n",
       "        vertical-align: top;\n",
       "    }\n",
       "\n",
       "    .dataframe thead th {\n",
       "        text-align: right;\n",
       "    }\n",
       "</style>\n",
       "<table border=\"1\" class=\"dataframe\">\n",
       "  <thead>\n",
       "    <tr style=\"text-align: right;\">\n",
       "      <th></th>\n",
       "      <th>PROBABILITY</th>\n",
       "      <th>spread</th>\n",
       "    </tr>\n",
       "  </thead>\n",
       "  <tbody>\n",
       "    <tr>\n",
       "      <th>55</th>\n",
       "      <td>0.103411</td>\n",
       "      <td>13.5</td>\n",
       "    </tr>\n",
       "    <tr>\n",
       "      <th>56</th>\n",
       "      <td>0.096226</td>\n",
       "      <td>14.0</td>\n",
       "    </tr>\n",
       "    <tr>\n",
       "      <th>57</th>\n",
       "      <td>0.089490</td>\n",
       "      <td>14.5</td>\n",
       "    </tr>\n",
       "    <tr>\n",
       "      <th>58</th>\n",
       "      <td>0.083182</td>\n",
       "      <td>15.0</td>\n",
       "    </tr>\n",
       "    <tr>\n",
       "      <th>59</th>\n",
       "      <td>0.077282</td>\n",
       "      <td>15.5</td>\n",
       "    </tr>\n",
       "  </tbody>\n",
       "</table>\n",
       "</div>"
      ],
      "text/plain": [
       "    PROBABILITY  spread\n",
       "55     0.103411    13.5\n",
       "56     0.096226    14.0\n",
       "57     0.089490    14.5\n",
       "58     0.083182    15.0\n",
       "59     0.077282    15.5"
      ]
     },
     "execution_count": 14,
     "metadata": {},
     "output_type": "execute_result"
    }
   ],
   "source": [
    "spread_map.tail()"
   ]
  },
  {
   "cell_type": "code",
   "execution_count": 15,
   "metadata": {},
   "outputs": [],
   "source": [
    "game_preds_df = merge_closest(game_preds_df,\n",
    "                              spread_map,\n",
    "                              'preds',\n",
    "                              'PROBABILITY',\n",
    "                              ['spread'])\n",
    "\n",
    "game_preds_df['spread'] = game_preds_df.spread * -1"
   ]
  },
  {
   "cell_type": "code",
   "execution_count": 16,
   "metadata": {},
   "outputs": [
    {
     "data": {
      "text/html": [
       "<div>\n",
       "<style scoped>\n",
       "    .dataframe tbody tr th:only-of-type {\n",
       "        vertical-align: middle;\n",
       "    }\n",
       "\n",
       "    .dataframe tbody tr th {\n",
       "        vertical-align: top;\n",
       "    }\n",
       "\n",
       "    .dataframe thead th {\n",
       "        text-align: right;\n",
       "    }\n",
       "</style>\n",
       "<table border=\"1\" class=\"dataframe\">\n",
       "  <thead>\n",
       "    <tr style=\"text-align: right;\">\n",
       "      <th></th>\n",
       "      <th>preds</th>\n",
       "      <th>results</th>\n",
       "      <th>ps</th>\n",
       "      <th>spread</th>\n",
       "    </tr>\n",
       "  </thead>\n",
       "  <tbody>\n",
       "    <tr>\n",
       "      <th>0</th>\n",
       "      <td>0.315677</td>\n",
       "      <td>-19.0</td>\n",
       "      <td>-2.5</td>\n",
       "      <td>-5.0</td>\n",
       "    </tr>\n",
       "    <tr>\n",
       "      <th>1</th>\n",
       "      <td>0.680949</td>\n",
       "      <td>5.0</td>\n",
       "      <td>4.0</td>\n",
       "      <td>4.5</td>\n",
       "    </tr>\n",
       "    <tr>\n",
       "      <th>2</th>\n",
       "      <td>0.620503</td>\n",
       "      <td>-2.0</td>\n",
       "      <td>2.5</td>\n",
       "      <td>3.0</td>\n",
       "    </tr>\n",
       "    <tr>\n",
       "      <th>3</th>\n",
       "      <td>0.954613</td>\n",
       "      <td>21.0</td>\n",
       "      <td>10.5</td>\n",
       "      <td>15.5</td>\n",
       "    </tr>\n",
       "    <tr>\n",
       "      <th>4</th>\n",
       "      <td>0.828488</td>\n",
       "      <td>3.0</td>\n",
       "      <td>6.0</td>\n",
       "      <td>9.5</td>\n",
       "    </tr>\n",
       "  </tbody>\n",
       "</table>\n",
       "</div>"
      ],
      "text/plain": [
       "      preds  results    ps  spread\n",
       "0  0.315677    -19.0  -2.5    -5.0\n",
       "1  0.680949      5.0   4.0     4.5\n",
       "2  0.620503     -2.0   2.5     3.0\n",
       "3  0.954613     21.0  10.5    15.5\n",
       "4  0.828488      3.0   6.0     9.5"
      ]
     },
     "execution_count": 16,
     "metadata": {},
     "output_type": "execute_result"
    }
   ],
   "source": [
    "game_preds_df.head()"
   ]
  },
  {
   "cell_type": "code",
   "execution_count": 17,
   "metadata": {},
   "outputs": [],
   "source": [
    "# rename from spread (which is in WOO set) to pred_spread\n",
    "game_preds_df = game_preds_df.rename(index=str,columns={'spread':'pred_spread'})"
   ]
  },
  {
   "cell_type": "code",
   "execution_count": 18,
   "metadata": {},
   "outputs": [],
   "source": [
    "# residuals\n",
    "game_preds_df['pred_diff'] = abs(game_preds_df.results - game_preds_df.pred_spread)\n",
    "game_preds_df['ps_diff'] = abs(game_preds_df.results - game_preds_df.ps)"
   ]
  },
  {
   "cell_type": "code",
   "execution_count": 19,
   "metadata": {},
   "outputs": [],
   "source": [
    "# beat line\n",
    "game_preds_df = (game_preds_df\n",
    "                 .assign(bl = lambda x: x['pred_diff'] < x['ps_diff']))"
   ]
  },
  {
   "cell_type": "code",
   "execution_count": 21,
   "metadata": {},
   "outputs": [
    {
     "data": {
      "text/html": [
       "<div>\n",
       "<style scoped>\n",
       "    .dataframe tbody tr th:only-of-type {\n",
       "        vertical-align: middle;\n",
       "    }\n",
       "\n",
       "    .dataframe tbody tr th {\n",
       "        vertical-align: top;\n",
       "    }\n",
       "\n",
       "    .dataframe thead th {\n",
       "        text-align: right;\n",
       "    }\n",
       "</style>\n",
       "<table border=\"1\" class=\"dataframe\">\n",
       "  <thead>\n",
       "    <tr style=\"text-align: right;\">\n",
       "      <th></th>\n",
       "      <th>preds</th>\n",
       "      <th>results</th>\n",
       "      <th>ps</th>\n",
       "      <th>pred_spread</th>\n",
       "      <th>pred_diff</th>\n",
       "      <th>ps_diff</th>\n",
       "      <th>bl</th>\n",
       "    </tr>\n",
       "  </thead>\n",
       "  <tbody>\n",
       "    <tr>\n",
       "      <th>0</th>\n",
       "      <td>0.315677</td>\n",
       "      <td>-19.0</td>\n",
       "      <td>-2.5</td>\n",
       "      <td>-5.0</td>\n",
       "      <td>14.0</td>\n",
       "      <td>16.5</td>\n",
       "      <td>True</td>\n",
       "    </tr>\n",
       "    <tr>\n",
       "      <th>1</th>\n",
       "      <td>0.680949</td>\n",
       "      <td>5.0</td>\n",
       "      <td>4.0</td>\n",
       "      <td>4.5</td>\n",
       "      <td>0.5</td>\n",
       "      <td>1.0</td>\n",
       "      <td>True</td>\n",
       "    </tr>\n",
       "    <tr>\n",
       "      <th>2</th>\n",
       "      <td>0.620503</td>\n",
       "      <td>-2.0</td>\n",
       "      <td>2.5</td>\n",
       "      <td>3.0</td>\n",
       "      <td>5.0</td>\n",
       "      <td>4.5</td>\n",
       "      <td>False</td>\n",
       "    </tr>\n",
       "    <tr>\n",
       "      <th>3</th>\n",
       "      <td>0.954613</td>\n",
       "      <td>21.0</td>\n",
       "      <td>10.5</td>\n",
       "      <td>15.5</td>\n",
       "      <td>5.5</td>\n",
       "      <td>10.5</td>\n",
       "      <td>True</td>\n",
       "    </tr>\n",
       "    <tr>\n",
       "      <th>4</th>\n",
       "      <td>0.828488</td>\n",
       "      <td>3.0</td>\n",
       "      <td>6.0</td>\n",
       "      <td>9.5</td>\n",
       "      <td>6.5</td>\n",
       "      <td>3.0</td>\n",
       "      <td>False</td>\n",
       "    </tr>\n",
       "  </tbody>\n",
       "</table>\n",
       "</div>"
      ],
      "text/plain": [
       "      preds  results    ps  pred_spread  pred_diff  ps_diff     bl\n",
       "0  0.315677    -19.0  -2.5         -5.0       14.0     16.5   True\n",
       "1  0.680949      5.0   4.0          4.5        0.5      1.0   True\n",
       "2  0.620503     -2.0   2.5          3.0        5.0      4.5  False\n",
       "3  0.954613     21.0  10.5         15.5        5.5     10.5   True\n",
       "4  0.828488      3.0   6.0          9.5        6.5      3.0  False"
      ]
     },
     "execution_count": 21,
     "metadata": {},
     "output_type": "execute_result"
    }
   ],
   "source": [
    "game_preds_df.head(5)"
   ]
  },
  {
   "cell_type": "markdown",
   "metadata": {},
   "source": [
    "### Analysis"
   ]
  },
  {
   "cell_type": "code",
   "execution_count": 23,
   "metadata": {},
   "outputs": [
    {
     "name": "stdout",
     "output_type": "stream",
     "text": [
      "Percentage of time model beats point spread 0.422\n"
     ]
    }
   ],
   "source": [
    "bl = game_preds_df.bl.mean()\n",
    "print(f'Percentage of time model beats point spread {bl.round(3)}')"
   ]
  },
  {
   "cell_type": "code",
   "execution_count": 25,
   "metadata": {},
   "outputs": [
    {
     "name": "stdout",
     "output_type": "stream",
     "text": [
      " Point Spread Mean Squared Error 147.955 \n",
      " Point Spread Root Mean Squared Error 12.164\n"
     ]
    }
   ],
   "source": [
    "mse = mean_squared_error(game_preds_df.ps, \n",
    "                   game_preds_df.results).round(3)\n",
    "rmse = np.sqrt(mean_squared_error(game_preds_df.ps, \n",
    "                           game_preds_df.results)).round(3)\n",
    "\n",
    "print(f' Point Spread Mean Squared Error {mse} \\n Point Spread Root Mean Squared Error {rmse}')"
   ]
  },
  {
   "cell_type": "code",
   "execution_count": 27,
   "metadata": {},
   "outputs": [
    {
     "name": "stdout",
     "output_type": "stream",
     "text": [
      " Model Mean Squared Error 159.471 \n",
      " Model Root Mean Squared Error 12.628\n"
     ]
    }
   ],
   "source": [
    "mse = mean_squared_error(game_preds_df.pred_spread, \n",
    "                   game_preds_df.results).round(3)\n",
    "rmse = np.sqrt(mean_squared_error(game_preds_df.pred_spread, \n",
    "                           game_preds_df.results)).round(3)\n",
    "\n",
    "print(f' Model Mean Squared Error {mse} \\n Model Root Mean Squared Error {rmse}')"
   ]
  },
  {
   "cell_type": "code",
   "execution_count": null,
   "metadata": {},
   "outputs": [],
   "source": []
  }
 ],
 "metadata": {
  "kernelspec": {
   "display_name": "Python 3",
   "language": "python",
   "name": "python3"
  },
  "language_info": {
   "codemirror_mode": {
    "name": "ipython",
    "version": 3
   },
   "file_extension": ".py",
   "mimetype": "text/x-python",
   "name": "python",
   "nbconvert_exporter": "python",
   "pygments_lexer": "ipython3",
   "version": "3.6.7"
  }
 },
 "nbformat": 4,
 "nbformat_minor": 2
}
